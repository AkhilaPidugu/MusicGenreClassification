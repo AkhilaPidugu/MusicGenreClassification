{
  "nbformat": 4,
  "nbformat_minor": 0,
  "metadata": {
    "colab": {
      "name": "MusicGenreClassification-Part2.ipynb",
      "provenance": [],
      "toc_visible": true,
      "include_colab_link": true
    },
    "kernelspec": {
      "display_name": "Python 3",
      "name": "python3"
    },
    "language_info": {
      "name": "python"
    }
  },
  "cells": [
    {
      "cell_type": "markdown",
      "metadata": {
        "id": "view-in-github",
        "colab_type": "text"
      },
      "source": [
        "<a href=\"https://colab.research.google.com/github/akhilapidugu99/MusicGenreClassification/blob/main/MusicGenreClassification_Part2.ipynb\" target=\"_parent\"><img src=\"https://colab.research.google.com/assets/colab-badge.svg\" alt=\"Open In Colab\"/></a>"
      ]
    },
    {
      "cell_type": "code",
      "metadata": {
        "id": "2Fh00BJtApQB"
      },
      "source": [
        "import json\n",
        "import numpy as np\n",
        "from sklearn.model_selection import train_test_split\n",
        "import tensorflow.keras as keras\n",
        "\n",
        "import matplotlib.pyplot as plt\n",
        "import random\n",
        "\n",
        "import librosa\n",
        "import math"
      ],
      "execution_count": null,
      "outputs": []
    },
    {
      "cell_type": "code",
      "metadata": {
        "id": "CHz2SDOpBWyo"
      },
      "source": [
        "#path to json\n",
        "DATA_PATH = \"/content/drive/MyDrive/genres/data_10.json\""
      ],
      "execution_count": null,
      "outputs": []
    },
    {
      "cell_type": "code",
      "metadata": {
        "id": "WJNi3MmgCPpp"
      },
      "source": [
        "def load_data(data_path):\n",
        "\n",
        "  with open(data_path,\"r\") as f:\n",
        "    data=json.load(f)\n",
        "\n",
        "  #convert lists to many arrays\n",
        "  x = np.array(data[\"mfcc\"])\n",
        "  y = np.array(data[\"labels\"])\n",
        "\n",
        "  print(\"Data successfully loaded\")\n",
        "\n",
        "  return x,y"
      ],
      "execution_count": null,
      "outputs": []
    },
    {
      "cell_type": "code",
      "metadata": {
        "colab": {
          "base_uri": "https://localhost:8080/"
        },
        "id": "BhjiN1YYC31Q",
        "outputId": "8757aa01-711c-4bab-f347-16856474a8f9"
      },
      "source": [
        "#load data\n",
        "x,y =load_data(DATA_PATH)"
      ],
      "execution_count": null,
      "outputs": [
        {
          "output_type": "stream",
          "text": [
            "Data successfully loaded\n"
          ],
          "name": "stdout"
        }
      ]
    },
    {
      "cell_type": "code",
      "metadata": {
        "colab": {
          "base_uri": "https://localhost:8080/"
        },
        "id": "yfp_P3FODabC",
        "outputId": "7742f61b-3b57-41dc-b530-1f7e2a5b06e9"
      },
      "source": [
        "x.shape"
      ],
      "execution_count": null,
      "outputs": [
        {
          "output_type": "execute_result",
          "data": {
            "text/plain": [
              "(9986, 130, 13)"
            ]
          },
          "metadata": {
            "tags": []
          },
          "execution_count": 6
        }
      ]
    },
    {
      "cell_type": "code",
      "metadata": {
        "id": "xPRTKzps1D9C"
      },
      "source": [
        "x_train,x_test,y_train,y_test=train_test_split(x,y,test_size=0.3)"
      ],
      "execution_count": null,
      "outputs": []
    },
    {
      "cell_type": "markdown",
      "metadata": {
        "id": "thb5VRAj5bCU"
      },
      "source": [
        "# **SIMPLE ANN**"
      ]
    },
    {
      "cell_type": "code",
      "metadata": {
        "id": "wU_12H6_5e34"
      },
      "source": [
        "#build network topology\n",
        "model = keras.Sequential([\n",
        "        #input layer\n",
        "        keras.layers.Flatten(input_shape=(x.shape[1],x.shape[2])),\n",
        "\n",
        "        #1st dense layer\n",
        "        keras.layers.Dense(512,activation='relu'),\n",
        "\n",
        "        #2nd dense layer\n",
        "        keras.layers.Dense(256,activation='relu'),\n",
        "\n",
        "        #3r dense layer\n",
        "        keras.layers.Dense(64,activation='relu'),\n",
        "\n",
        "        #output layer\n",
        "        keras.layers.Dense(10,activation='softmax'),\n",
        "])"
      ],
      "execution_count": null,
      "outputs": []
    },
    {
      "cell_type": "code",
      "metadata": {
        "id": "DyV4XtIQ6ZMb"
      },
      "source": [
        "#compile model\n",
        "optimiser = keras.optimizers.Adam(learning_rate=0.0001)\n",
        "model.compile(optimizer=optimiser,loss='sparse_categorical_crossentropy',metrics=['accuracy'])"
      ],
      "execution_count": null,
      "outputs": []
    },
    {
      "cell_type": "code",
      "metadata": {
        "colab": {
          "base_uri": "https://localhost:8080/"
        },
        "id": "6kZcYIrw7FVu",
        "outputId": "d4561fc6-e32c-4fa7-bd77-358d694df7d4"
      },
      "source": [
        "model.summary()"
      ],
      "execution_count": null,
      "outputs": [
        {
          "output_type": "stream",
          "text": [
            "Model: \"sequential\"\n",
            "_________________________________________________________________\n",
            "Layer (type)                 Output Shape              Param #   \n",
            "=================================================================\n",
            "flatten (Flatten)            (None, 1690)              0         \n",
            "_________________________________________________________________\n",
            "dense (Dense)                (None, 512)               865792    \n",
            "_________________________________________________________________\n",
            "dense_1 (Dense)              (None, 256)               131328    \n",
            "_________________________________________________________________\n",
            "dense_2 (Dense)              (None, 64)                16448     \n",
            "_________________________________________________________________\n",
            "dense_3 (Dense)              (None, 10)                650       \n",
            "=================================================================\n",
            "Total params: 1,014,218\n",
            "Trainable params: 1,014,218\n",
            "Non-trainable params: 0\n",
            "_________________________________________________________________\n"
          ],
          "name": "stdout"
        }
      ]
    },
    {
      "cell_type": "code",
      "metadata": {
        "colab": {
          "base_uri": "https://localhost:8080/"
        },
        "id": "apF4_XL27IKR",
        "outputId": "662863bb-5bf3-4936-c9be-4ab5cc96b730"
      },
      "source": [
        "#train model\n",
        "history = model.fit(x_train,y_train,validation_data=(x_test,y_test),batch_size=32,epochs=50)"
      ],
      "execution_count": null,
      "outputs": [
        {
          "output_type": "stream",
          "text": [
            "Epoch 1/50\n",
            "219/219 [==============================] - 3s 13ms/step - loss: 2.8694 - accuracy: 0.4448 - val_loss: 3.0558 - val_accuracy: 0.4072\n",
            "Epoch 2/50\n",
            "219/219 [==============================] - 3s 12ms/step - loss: 2.1729 - accuracy: 0.5007 - val_loss: 2.5244 - val_accuracy: 0.4413\n",
            "Epoch 3/50\n",
            "219/219 [==============================] - 3s 12ms/step - loss: 1.6793 - accuracy: 0.5637 - val_loss: 2.4996 - val_accuracy: 0.4503\n",
            "Epoch 4/50\n",
            "219/219 [==============================] - 3s 12ms/step - loss: 1.4208 - accuracy: 0.6009 - val_loss: 2.2669 - val_accuracy: 0.4897\n",
            "Epoch 5/50\n",
            "219/219 [==============================] - 2s 11ms/step - loss: 1.1781 - accuracy: 0.6498 - val_loss: 2.4107 - val_accuracy: 0.4656\n",
            "Epoch 6/50\n",
            "219/219 [==============================] - 2s 11ms/step - loss: 0.9721 - accuracy: 0.6996 - val_loss: 2.3562 - val_accuracy: 0.4900\n",
            "Epoch 7/50\n",
            "219/219 [==============================] - 2s 10ms/step - loss: 0.8952 - accuracy: 0.7196 - val_loss: 2.1977 - val_accuracy: 0.5000\n",
            "Epoch 8/50\n",
            "219/219 [==============================] - 2s 10ms/step - loss: 0.7615 - accuracy: 0.7572 - val_loss: 2.1485 - val_accuracy: 0.5170\n",
            "Epoch 9/50\n",
            "219/219 [==============================] - 2s 9ms/step - loss: 0.6824 - accuracy: 0.7817 - val_loss: 2.1036 - val_accuracy: 0.5043\n",
            "Epoch 10/50\n",
            "219/219 [==============================] - 2s 10ms/step - loss: 0.6132 - accuracy: 0.8024 - val_loss: 2.1266 - val_accuracy: 0.5334\n",
            "Epoch 11/50\n",
            "219/219 [==============================] - 2s 9ms/step - loss: 0.5265 - accuracy: 0.8308 - val_loss: 2.0989 - val_accuracy: 0.5404\n",
            "Epoch 12/50\n",
            "219/219 [==============================] - 2s 9ms/step - loss: 0.4458 - accuracy: 0.8514 - val_loss: 2.1584 - val_accuracy: 0.5237\n",
            "Epoch 13/50\n",
            "219/219 [==============================] - 2s 9ms/step - loss: 0.4390 - accuracy: 0.8567 - val_loss: 2.0593 - val_accuracy: 0.5330\n",
            "Epoch 14/50\n",
            "219/219 [==============================] - 2s 10ms/step - loss: 0.3945 - accuracy: 0.8672 - val_loss: 2.1792 - val_accuracy: 0.5260\n",
            "Epoch 15/50\n",
            "219/219 [==============================] - 2s 10ms/step - loss: 0.3515 - accuracy: 0.8841 - val_loss: 2.2384 - val_accuracy: 0.5364\n",
            "Epoch 16/50\n",
            "219/219 [==============================] - 2s 10ms/step - loss: 0.3036 - accuracy: 0.9006 - val_loss: 2.0977 - val_accuracy: 0.5491\n",
            "Epoch 17/50\n",
            "219/219 [==============================] - 2s 10ms/step - loss: 0.2677 - accuracy: 0.9117 - val_loss: 2.3317 - val_accuracy: 0.5214\n",
            "Epoch 18/50\n",
            "219/219 [==============================] - 2s 10ms/step - loss: 0.3416 - accuracy: 0.8864 - val_loss: 2.2311 - val_accuracy: 0.5604\n",
            "Epoch 19/50\n",
            "219/219 [==============================] - 2s 9ms/step - loss: 0.2369 - accuracy: 0.9243 - val_loss: 2.0868 - val_accuracy: 0.5581\n",
            "Epoch 20/50\n",
            "219/219 [==============================] - 2s 9ms/step - loss: 0.2170 - accuracy: 0.9255 - val_loss: 2.2773 - val_accuracy: 0.5654\n",
            "Epoch 21/50\n",
            "219/219 [==============================] - 2s 9ms/step - loss: 0.2991 - accuracy: 0.9099 - val_loss: 2.4486 - val_accuracy: 0.5354\n",
            "Epoch 22/50\n",
            "219/219 [==============================] - 2s 10ms/step - loss: 0.2503 - accuracy: 0.9192 - val_loss: 2.2766 - val_accuracy: 0.5718\n",
            "Epoch 23/50\n",
            "219/219 [==============================] - 2s 10ms/step - loss: 0.2171 - accuracy: 0.9300 - val_loss: 2.2665 - val_accuracy: 0.5564\n",
            "Epoch 24/50\n",
            "219/219 [==============================] - 2s 10ms/step - loss: 0.1633 - accuracy: 0.9484 - val_loss: 2.2136 - val_accuracy: 0.5738\n",
            "Epoch 25/50\n",
            "219/219 [==============================] - 2s 9ms/step - loss: 0.1049 - accuracy: 0.9728 - val_loss: 2.3341 - val_accuracy: 0.5718\n",
            "Epoch 26/50\n",
            "219/219 [==============================] - 2s 10ms/step - loss: 0.1515 - accuracy: 0.9505 - val_loss: 2.6913 - val_accuracy: 0.5441\n",
            "Epoch 27/50\n",
            "219/219 [==============================] - 2s 9ms/step - loss: 0.1498 - accuracy: 0.9515 - val_loss: 2.4671 - val_accuracy: 0.5728\n",
            "Epoch 28/50\n",
            "219/219 [==============================] - 2s 10ms/step - loss: 0.3092 - accuracy: 0.8936 - val_loss: 2.9800 - val_accuracy: 0.5310\n",
            "Epoch 29/50\n",
            "219/219 [==============================] - 2s 10ms/step - loss: 0.2168 - accuracy: 0.9293 - val_loss: 2.4334 - val_accuracy: 0.5758\n",
            "Epoch 30/50\n",
            "219/219 [==============================] - 2s 9ms/step - loss: 0.1473 - accuracy: 0.9569 - val_loss: 2.2828 - val_accuracy: 0.5901\n",
            "Epoch 31/50\n",
            "219/219 [==============================] - 2s 9ms/step - loss: 0.0997 - accuracy: 0.9687 - val_loss: 2.5557 - val_accuracy: 0.5567\n",
            "Epoch 32/50\n",
            "219/219 [==============================] - 2s 10ms/step - loss: 0.0989 - accuracy: 0.9700 - val_loss: 2.2793 - val_accuracy: 0.5891\n",
            "Epoch 33/50\n",
            "219/219 [==============================] - 2s 10ms/step - loss: 0.1122 - accuracy: 0.9635 - val_loss: 2.3770 - val_accuracy: 0.5694\n",
            "Epoch 34/50\n",
            "219/219 [==============================] - 2s 9ms/step - loss: 0.2179 - accuracy: 0.9289 - val_loss: 2.6041 - val_accuracy: 0.5721\n",
            "Epoch 35/50\n",
            "219/219 [==============================] - 2s 10ms/step - loss: 0.1333 - accuracy: 0.9578 - val_loss: 2.4208 - val_accuracy: 0.5891\n",
            "Epoch 36/50\n",
            "219/219 [==============================] - 2s 9ms/step - loss: 0.1190 - accuracy: 0.9627 - val_loss: 2.4433 - val_accuracy: 0.5828\n",
            "Epoch 37/50\n",
            "219/219 [==============================] - 2s 9ms/step - loss: 0.2248 - accuracy: 0.9352 - val_loss: 2.5284 - val_accuracy: 0.5821\n",
            "Epoch 38/50\n",
            "219/219 [==============================] - 2s 10ms/step - loss: 0.1279 - accuracy: 0.9587 - val_loss: 2.4371 - val_accuracy: 0.5925\n",
            "Epoch 39/50\n",
            "219/219 [==============================] - 2s 10ms/step - loss: 0.0371 - accuracy: 0.9913 - val_loss: 2.3591 - val_accuracy: 0.6091\n",
            "Epoch 40/50\n",
            "219/219 [==============================] - 2s 9ms/step - loss: 0.0264 - accuracy: 0.9944 - val_loss: 2.4047 - val_accuracy: 0.6111\n",
            "Epoch 41/50\n",
            "219/219 [==============================] - 2s 10ms/step - loss: 0.0210 - accuracy: 0.9959 - val_loss: 2.3827 - val_accuracy: 0.6168\n",
            "Epoch 42/50\n",
            "219/219 [==============================] - 2s 9ms/step - loss: 0.0935 - accuracy: 0.9704 - val_loss: 2.7567 - val_accuracy: 0.5704\n",
            "Epoch 43/50\n",
            "219/219 [==============================] - 2s 10ms/step - loss: 0.3666 - accuracy: 0.8906 - val_loss: 2.6548 - val_accuracy: 0.5754\n",
            "Epoch 44/50\n",
            "219/219 [==============================] - 2s 10ms/step - loss: 0.1298 - accuracy: 0.9567 - val_loss: 2.5118 - val_accuracy: 0.5971\n",
            "Epoch 45/50\n",
            "219/219 [==============================] - 2s 10ms/step - loss: 0.0570 - accuracy: 0.9830 - val_loss: 2.8150 - val_accuracy: 0.5828\n",
            "Epoch 46/50\n",
            "219/219 [==============================] - 2s 10ms/step - loss: 0.0802 - accuracy: 0.9755 - val_loss: 2.5071 - val_accuracy: 0.6018\n",
            "Epoch 47/50\n",
            "219/219 [==============================] - 2s 10ms/step - loss: 0.0651 - accuracy: 0.9810 - val_loss: 2.5625 - val_accuracy: 0.6038\n",
            "Epoch 48/50\n",
            "219/219 [==============================] - 2s 10ms/step - loss: 0.0554 - accuracy: 0.9838 - val_loss: 2.5119 - val_accuracy: 0.6071\n",
            "Epoch 49/50\n",
            "219/219 [==============================] - 2s 10ms/step - loss: 0.1511 - accuracy: 0.9594 - val_loss: 2.9734 - val_accuracy: 0.5668\n",
            "Epoch 50/50\n",
            "219/219 [==============================] - 2s 10ms/step - loss: 0.2060 - accuracy: 0.9348 - val_loss: 2.5398 - val_accuracy: 0.6055\n"
          ],
          "name": "stdout"
        }
      ]
    },
    {
      "cell_type": "code",
      "metadata": {
        "colab": {
          "base_uri": "https://localhost:8080/"
        },
        "id": "Ibn3SCjUEct9",
        "outputId": "f631230a-44bd-4054-c183-eb4bfe160018"
      },
      "source": [
        "model.save(\"Ann\")"
      ],
      "execution_count": null,
      "outputs": [
        {
          "output_type": "stream",
          "text": [
            "INFO:tensorflow:Assets written to: Ann/assets\n"
          ],
          "name": "stdout"
        }
      ]
    },
    {
      "cell_type": "code",
      "metadata": {
        "id": "TvUXuKvW7ai0"
      },
      "source": [
        "def plot_history(history):\n",
        "  fig,axs=plt.subplots(2)\n",
        "\n",
        "  #create accuracy subplots\n",
        "  axs[0].plot(history.history['accuracy'],label=\"train accuracy\")\n",
        "  axs[0].plot(history.history['val_accuracy'],label=\"train accuracy\")\n",
        "  axs[0].set_ylabel(\"Accuracy\")\n",
        "  axs[0].legend(loc=\"lower right\")\n",
        "  axs[0].set_title(\"Accuracy eval\")\n",
        "\n",
        "  #create error subplot\n",
        "  axs[1].plot(history.history['loss'],label=\"train error\")\n",
        "  axs[1].plot(history.history['val_loss'],label=\"train error\")\n",
        "  axs[1].set_ylabel(\"Error\")\n",
        "  axs[1].set_xlabel(\"Epoch\")\n",
        "  axs[1].legend(loc=\"upper right\")\n",
        "  axs[1].set_title(\"Error eval\")"
      ],
      "execution_count": null,
      "outputs": []
    },
    {
      "cell_type": "code",
      "metadata": {
        "id": "5YLXR_nb8Tcm",
        "colab": {
          "base_uri": "https://localhost:8080/",
          "height": 295
        },
        "outputId": "59867c8b-cb7b-47d5-9edd-b3c7b67a2da7"
      },
      "source": [
        "plot_history(history)"
      ],
      "execution_count": null,
      "outputs": [
        {
          "output_type": "display_data",
          "data": {
            "image/png": "[encoded data removed]",
            "text/plain": [
              "<Figure size 432x288 with 2 Axes>"
            ]
          },
          "metadata": {
            "tags": [],
            "needs_background": "light"
          }
        }
      ]
    },
    {
      "cell_type": "markdown",
      "metadata": {
        "id": "Tf5hNZan8Yz1"
      },
      "source": [
        "# **MANAGING OVERFITTING**\n",
        "\n",
        "> Indented block\n",
        "\n"
      ]
    },
    {
      "cell_type": "code",
      "metadata": {
        "id": "e_FYXs2p8X1c"
      },
      "source": [
        "#build network topology\n",
        "model_regularized= keras.Sequential([\n",
        "        #input layer\n",
        "        keras.layers.Flatten(input_shape=(x.shape[1],x.shape[2])),\n",
        "\n",
        "        #1st dense layer\n",
        "        keras.layers.Dense(512,activation='relu',kernel_regularizer=keras.regularizers.l2(0.001)),\n",
        "        keras.layers.Dropout(0.3),\n",
        "\n",
        "        #2nd dense layer\n",
        "        keras.layers.Dense(256,activation='relu',kernel_regularizer=keras.regularizers.l2(0.001)),\n",
        "        keras.layers.Dropout(0.3),\n",
        "\n",
        "        #3r dense layer\n",
        "        keras.layers.Dense(64,activation='relu',kernel_regularizer=keras.regularizers.l2(0.001)),\n",
        "        keras.layers.Dropout(0.3),\n",
        "\n",
        "        #output layer\n",
        "        keras.layers.Dense(10,activation='softmax'),\n",
        "])"
      ],
      "execution_count": null,
      "outputs": []
    },
    {
      "cell_type": "code",
      "metadata": {
        "id": "GDIIwEJh9SqD"
      },
      "source": [
        "#compile model\n",
        "optimiser = keras.optimizers.Adam(learning_rate=0.0001)\n",
        "model_regularized.compile(optimizer=optimiser,loss='sparse_categorical_crossentropy',metrics=['accuracy'])"
      ],
      "execution_count": null,
      "outputs": []
    },
    {
      "cell_type": "code",
      "metadata": {
        "id": "GEbOgZ8x9cyt",
        "colab": {
          "base_uri": "https://localhost:8080/"
        },
        "outputId": "353dfcb5-a4fb-4b16-aa59-3e697f59daca"
      },
      "source": [
        "#train model\n",
        "history = model_regularized.fit(x_train,y_train,validation_data=(x_test,y_test),batch_size=32,epochs=50)"
      ],
      "execution_count": null,
      "outputs": [
        {
          "output_type": "stream",
          "text": [
            "Epoch 1/50\n",
            "219/219 [==============================] - 4s 14ms/step - loss: 39.0824 - accuracy: 0.1340 - val_loss: 3.4588 - val_accuracy: 0.1582\n",
            "Epoch 2/50\n",
            "219/219 [==============================] - 3s 12ms/step - loss: 7.0238 - accuracy: 0.1544 - val_loss: 3.4796 - val_accuracy: 0.1262\n",
            "Epoch 3/50\n",
            "219/219 [==============================] - 3s 13ms/step - loss: 4.5276 - accuracy: 0.1467 - val_loss: 3.4840 - val_accuracy: 0.1225\n",
            "Epoch 4/50\n",
            "219/219 [==============================] - 3s 12ms/step - loss: 3.9763 - accuracy: 0.1338 - val_loss: 3.4777 - val_accuracy: 0.1228\n",
            "Epoch 5/50\n",
            "219/219 [==============================] - 3s 12ms/step - loss: 3.7335 - accuracy: 0.1355 - val_loss: 3.4672 - val_accuracy: 0.1252\n",
            "Epoch 6/50\n",
            "219/219 [==============================] - 3s 12ms/step - loss: 3.6807 - accuracy: 0.1374 - val_loss: 3.4530 - val_accuracy: 0.1312\n",
            "Epoch 7/50\n",
            "219/219 [==============================] - 3s 13ms/step - loss: 3.5791 - accuracy: 0.1460 - val_loss: 3.4579 - val_accuracy: 0.1278\n",
            "Epoch 8/50\n",
            "219/219 [==============================] - 3s 13ms/step - loss: 3.5424 - accuracy: 0.1316 - val_loss: 3.4376 - val_accuracy: 0.1368\n",
            "Epoch 9/50\n",
            "219/219 [==============================] - 3s 12ms/step - loss: 3.4857 - accuracy: 0.1548 - val_loss: 3.4124 - val_accuracy: 0.1475\n",
            "Epoch 10/50\n",
            "219/219 [==============================] - 3s 12ms/step - loss: 3.4873 - accuracy: 0.1558 - val_loss: 3.3877 - val_accuracy: 0.1555\n",
            "Epoch 11/50\n",
            "219/219 [==============================] - 3s 12ms/step - loss: 3.4500 - accuracy: 0.1574 - val_loss: 3.3892 - val_accuracy: 0.1515\n",
            "Epoch 12/50\n",
            "219/219 [==============================] - 3s 13ms/step - loss: 3.4332 - accuracy: 0.1675 - val_loss: 3.3635 - val_accuracy: 0.1612\n",
            "Epoch 13/50\n",
            "219/219 [==============================] - 3s 12ms/step - loss: 3.3837 - accuracy: 0.1840 - val_loss: 3.2951 - val_accuracy: 0.1916\n",
            "Epoch 14/50\n",
            "219/219 [==============================] - 3s 13ms/step - loss: 3.3793 - accuracy: 0.1864 - val_loss: 3.3123 - val_accuracy: 0.1802\n",
            "Epoch 15/50\n",
            "219/219 [==============================] - 3s 12ms/step - loss: 3.3389 - accuracy: 0.1807 - val_loss: 3.2906 - val_accuracy: 0.1819\n",
            "Epoch 16/50\n",
            "219/219 [==============================] - 3s 12ms/step - loss: 3.3289 - accuracy: 0.1741 - val_loss: 3.2405 - val_accuracy: 0.2009\n",
            "Epoch 17/50\n",
            "219/219 [==============================] - 3s 13ms/step - loss: 3.2689 - accuracy: 0.1926 - val_loss: 3.1951 - val_accuracy: 0.2023\n",
            "Epoch 19/50\n",
            "219/219 [==============================] - 3s 13ms/step - loss: 3.2908 - accuracy: 0.1970 - val_loss: 3.1767 - val_accuracy: 0.2079\n",
            "Epoch 20/50\n",
            "219/219 [==============================] - 3s 13ms/step - loss: 3.2191 - accuracy: 0.2128 - val_loss: 3.1422 - val_accuracy: 0.2173\n",
            "Epoch 21/50\n",
            "219/219 [==============================] - 3s 13ms/step - loss: 3.2198 - accuracy: 0.2055 - val_loss: 3.1821 - val_accuracy: 0.1913\n",
            "Epoch 22/50\n",
            "219/219 [==============================] - 3s 13ms/step - loss: 3.1965 - accuracy: 0.2040 - val_loss: 3.1067 - val_accuracy: 0.2213\n",
            "Epoch 23/50\n",
            "219/219 [==============================] - 3s 13ms/step - loss: 3.1586 - accuracy: 0.2103 - val_loss: 3.0722 - val_accuracy: 0.2323\n",
            "Epoch 24/50\n",
            "219/219 [==============================] - 3s 13ms/step - loss: 3.1570 - accuracy: 0.2112 - val_loss: 3.0869 - val_accuracy: 0.2166\n",
            "Epoch 25/50\n",
            "219/219 [==============================] - 3s 13ms/step - loss: 3.1325 - accuracy: 0.2124 - val_loss: 3.0133 - val_accuracy: 0.2453\n",
            "Epoch 26/50\n",
            "219/219 [==============================] - 3s 13ms/step - loss: 3.0687 - accuracy: 0.2298 - val_loss: 3.0746 - val_accuracy: 0.2039\n",
            "Epoch 27/50\n",
            "219/219 [==============================] - 3s 13ms/step - loss: 3.0840 - accuracy: 0.2183 - val_loss: 2.9774 - val_accuracy: 0.2430\n",
            "Epoch 28/50\n",
            "219/219 [==============================] - 3s 13ms/step - loss: 3.0417 - accuracy: 0.2222 - val_loss: 2.9583 - val_accuracy: 0.2443\n",
            "Epoch 29/50\n",
            "219/219 [==============================] - 3s 13ms/step - loss: 2.9748 - accuracy: 0.2519 - val_loss: 2.9336 - val_accuracy: 0.2420\n",
            "Epoch 30/50\n",
            "219/219 [==============================] - 3s 13ms/step - loss: 3.0014 - accuracy: 0.2272 - val_loss: 2.9293 - val_accuracy: 0.2377\n",
            "Epoch 31/50\n",
            "219/219 [==============================] - 3s 13ms/step - loss: 2.9715 - accuracy: 0.2325 - val_loss: 2.9085 - val_accuracy: 0.2380\n",
            "Epoch 32/50\n",
            "219/219 [==============================] - 3s 13ms/step - loss: 2.9363 - accuracy: 0.2339 - val_loss: 2.8879 - val_accuracy: 0.2356\n",
            "Epoch 33/50\n",
            "219/219 [==============================] - 3s 13ms/step - loss: 2.9070 - accuracy: 0.2337 - val_loss: 2.8811 - val_accuracy: 0.2323\n",
            "Epoch 34/50\n",
            "219/219 [==============================] - 3s 13ms/step - loss: 2.8898 - accuracy: 0.2383 - val_loss: 2.8545 - val_accuracy: 0.2427\n",
            "Epoch 35/50\n",
            "219/219 [==============================] - 3s 13ms/step - loss: 2.8662 - accuracy: 0.2391 - val_loss: 2.7990 - val_accuracy: 0.2530\n",
            "Epoch 36/50\n",
            "219/219 [==============================] - 3s 13ms/step - loss: 2.8041 - accuracy: 0.2494 - val_loss: 2.7877 - val_accuracy: 0.2490\n",
            "Epoch 37/50\n",
            "219/219 [==============================] - 3s 12ms/step - loss: 2.8106 - accuracy: 0.2379 - val_loss: 2.7500 - val_accuracy: 0.2503\n",
            "Epoch 38/50\n",
            "219/219 [==============================] - 3s 13ms/step - loss: 2.7806 - accuracy: 0.2353 - val_loss: 2.7627 - val_accuracy: 0.2407\n",
            "Epoch 39/50\n",
            "219/219 [==============================] - 3s 13ms/step - loss: 2.7587 - accuracy: 0.2354 - val_loss: 2.7329 - val_accuracy: 0.2467\n",
            "Epoch 40/50\n",
            "219/219 [==============================] - 3s 13ms/step - loss: 2.7312 - accuracy: 0.2490 - val_loss: 2.7146 - val_accuracy: 0.2400\n",
            "Epoch 41/50\n",
            "219/219 [==============================] - 3s 13ms/step - loss: 2.6848 - accuracy: 0.2444 - val_loss: 2.6731 - val_accuracy: 0.2553\n",
            "Epoch 42/50\n",
            "219/219 [==============================] - 3s 13ms/step - loss: 2.6842 - accuracy: 0.2385 - val_loss: 2.6667 - val_accuracy: 0.2487\n",
            "Epoch 43/50\n",
            "219/219 [==============================] - 3s 13ms/step - loss: 2.6588 - accuracy: 0.2496 - val_loss: 2.6205 - val_accuracy: 0.2570\n",
            "Epoch 44/50\n",
            "219/219 [==============================] - 3s 13ms/step - loss: 2.6187 - accuracy: 0.2565 - val_loss: 2.5942 - val_accuracy: 0.2613\n",
            "Epoch 45/50\n",
            "219/219 [==============================] - 3s 13ms/step - loss: 2.6182 - accuracy: 0.2402 - val_loss: 2.5984 - val_accuracy: 0.2627\n",
            "Epoch 46/50\n",
            "219/219 [==============================] - 3s 13ms/step - loss: 2.5688 - accuracy: 0.2788 - val_loss: 2.5260 - val_accuracy: 0.2991\n",
            "Epoch 47/50\n",
            "219/219 [==============================] - 3s 12ms/step - loss: 2.5514 - accuracy: 0.2760 - val_loss: 2.5225 - val_accuracy: 0.2877\n",
            "Epoch 48/50\n",
            "219/219 [==============================] - 3s 13ms/step - loss: 2.5145 - accuracy: 0.2873 - val_loss: 2.4828 - val_accuracy: 0.3081\n",
            "Epoch 49/50\n",
            "219/219 [==============================] - 3s 13ms/step - loss: 2.4806 - accuracy: 0.2941 - val_loss: 2.4723 - val_accuracy: 0.3188\n",
            "Epoch 50/50\n",
            "219/219 [==============================] - 3s 13ms/step - loss: 2.4412 - accuracy: 0.3041 - val_loss: 2.4437 - val_accuracy: 0.3138\n"
          ],
          "name": "stdout"
        }
      ]
    },
    {
      "cell_type": "code",
      "metadata": {
        "id": "yFM1AExV9rHT",
        "colab": {
          "base_uri": "https://localhost:8080/",
          "height": 295
        },
        "outputId": "e31cb80e-1ba5-423e-9b6f-c9f2bc6e0b8b"
      },
      "source": [
        "plot_history(history)"
      ],
      "execution_count": null,
      "outputs": [
        {
          "output_type": "display_data",
          "data": {
            "image/png": "[encoded data removed]",
            "text/plain": [
              "<Figure size 432x288 with 2 Axes>"
            ]
          },
          "metadata": {
            "tags": [],
            "needs_background": "light"
          }
        }
      ]
    },
    {
      "cell_type": "markdown",
      "metadata": {
        "id": "GuwGN4zWGTO8"
      },
      "source": [
        "## **CONVOLUTIONAL NEURAL NETWORK**"
      ]
    },
    {
      "cell_type": "code",
      "metadata": {
        "id": "I2wQFKoXDxkX"
      },
      "source": [
        "#create train/test split\n",
        "x_train,x_test,y_train,y_test = train_test_split(x,y,test_size=0.25)\n",
        "x_train,x_validation,y_train,y_validation = train_test_split(x_train,y_train, test_size=0.2)\n",
        "\n",
        "#add an axis to input sets\n",
        "x_train =x_train[...,np.newaxis]\n",
        "x_validation = x_validation[...,np.newaxis]\n",
        "x_test=x_test[...,np.newaxis]"
      ],
      "execution_count": null,
      "outputs": []
    },
    {
      "cell_type": "code",
      "metadata": {
        "id": "02NHBfSBH1HX",
        "colab": {
          "base_uri": "https://localhost:8080/"
        },
        "outputId": "b35fe874-1fe9-45e3-8038-cf87c09cc956"
      },
      "source": [
        "x_train.shape"
      ],
      "execution_count": null,
      "outputs": [
        {
          "output_type": "execute_result",
          "data": {
            "text/plain": [
              "(5991, 130, 13, 1)"
            ]
          },
          "metadata": {
            "tags": []
          },
          "execution_count": 21
        }
      ]
    },
    {
      "cell_type": "code",
      "metadata": {
        "id": "xO42IgilEEYE"
      },
      "source": [
        "input_shape = (x_train.shape[1], x_train.shape[2],1)"
      ],
      "execution_count": null,
      "outputs": []
    },
    {
      "cell_type": "code",
      "metadata": {
        "id": "51BsjbatHmqg"
      },
      "source": [
        "#build the CNN\n",
        "model_cnn = keras.Sequential()\n",
        "\n",
        "#1st conv layer\n",
        "model_cnn.add(keras.layers.Conv2D(32,(3,3),activation='relu',input_shape=input_shape))\n",
        "model_cnn.add(keras.layers.MaxPooling2D((3,3),strides=(2,2),padding='same'))\n",
        "model_cnn.add(keras.layers.BatchNormalization())\n",
        "\n",
        "#2nd conv layer\n",
        "model_cnn.add(keras.layers.Conv2D(32,(3,3),activation='relu'))\n",
        "model_cnn.add(keras.layers.MaxPooling2D((3,3),strides=(2,2),padding='same'))\n",
        "model_cnn.add(keras.layers.BatchNormalization())\n",
        "\n",
        "#3rd conv layer\n",
        "model_cnn.add(keras.layers.Conv2D(32,(2,2),activation='relu'))\n",
        "model_cnn.add(keras.layers.MaxPooling2D((3,3),strides=(2,2),padding='same'))\n",
        "model_cnn.add(keras.layers.BatchNormalization())\n",
        "\n",
        "#flatten output and feed it into dense layer\n",
        "model_cnn.add(keras.layers.Flatten())\n",
        "model_cnn.add(keras.layers.Dense(64,activation='relu'))\n",
        "model_cnn.add(keras.layers.Dropout(0.3))\n",
        "\n",
        "#output layer\n",
        "model_cnn.add(keras.layers.Dense(10,activation='softmax'))\n"
      ],
      "execution_count": null,
      "outputs": []
    },
    {
      "cell_type": "code",
      "metadata": {
        "id": "mrwB5o8tJjEN"
      },
      "source": [
        "#compile model\n",
        "optimiser = keras.optimizers.Adam(learning_rate=0.0001)\n",
        "model_cnn.compile(optimizer=optimiser,loss='sparse_categorical_crossentropy',metrics=['accuracy'])"
      ],
      "execution_count": null,
      "outputs": []
    },
    {
      "cell_type": "code",
      "metadata": {
        "id": "uzvhsK9XLY-z",
        "colab": {
          "base_uri": "https://localhost:8080/"
        },
        "outputId": "c9936bb5-2e09-4d88-ad4e-7252925cb509"
      },
      "source": [
        "model_cnn.summary()"
      ],
      "execution_count": null,
      "outputs": [
        {
          "output_type": "stream",
          "text": [
            "Model: \"sequential_2\"\n",
            "_________________________________________________________________\n",
            "Layer (type)                 Output Shape              Param #   \n",
            "=================================================================\n",
            "conv2d (Conv2D)              (None, 128, 11, 32)       320       \n",
            "_________________________________________________________________\n",
            "max_pooling2d (MaxPooling2D) (None, 64, 6, 32)         0         \n",
            "_________________________________________________________________\n",
            "batch_normalization (BatchNo (None, 64, 6, 32)         128       \n",
            "_________________________________________________________________\n",
            "conv2d_1 (Conv2D)            (None, 62, 4, 32)         9248      \n",
            "_________________________________________________________________\n",
            "max_pooling2d_1 (MaxPooling2 (None, 31, 2, 32)         0         \n",
            "_________________________________________________________________\n",
            "batch_normalization_1 (Batch (None, 31, 2, 32)         128       \n",
            "_________________________________________________________________\n",
            "conv2d_2 (Conv2D)            (None, 30, 1, 32)         4128      \n",
            "_________________________________________________________________\n",
            "max_pooling2d_2 (MaxPooling2 (None, 15, 1, 32)         0         \n",
            "_________________________________________________________________\n",
            "batch_normalization_2 (Batch (None, 15, 1, 32)         128       \n",
            "_________________________________________________________________\n",
            "flatten_2 (Flatten)          (None, 480)               0         \n",
            "_________________________________________________________________\n",
            "dense_8 (Dense)              (None, 64)                30784     \n",
            "_________________________________________________________________\n",
            "dropout_3 (Dropout)          (None, 64)                0         \n",
            "_________________________________________________________________\n",
            "dense_9 (Dense)              (None, 10)                650       \n",
            "=================================================================\n",
            "Total params: 45,514\n",
            "Trainable params: 45,322\n",
            "Non-trainable params: 192\n",
            "_________________________________________________________________\n"
          ],
          "name": "stdout"
        }
      ]
    },
    {
      "cell_type": "code",
      "metadata": {
        "id": "3dxuIsSsLkDL",
        "colab": {
          "base_uri": "https://localhost:8080/"
        },
        "outputId": "ccfcdea4-9c4f-44d2-e7fc-c8534af83739"
      },
      "source": [
        "#train model\n",
        "history = model_cnn.fit(x_train,y_train,validation_data=(x_validation,y_validation),batch_size=32,epochs=50)"
      ],
      "execution_count": null,
      "outputs": [
        {
          "output_type": "stream",
          "text": [
            "Epoch 1/50\n",
            "188/188 [==============================] - 11s 53ms/step - loss: 2.7042 - accuracy: 0.1660 - val_loss: 1.9199 - val_accuracy: 0.3298\n",
            "Epoch 2/50\n",
            "188/188 [==============================] - 10s 52ms/step - loss: 1.9307 - accuracy: 0.3520 - val_loss: 1.5411 - val_accuracy: 0.4773\n",
            "Epoch 3/50\n",
            "188/188 [==============================] - 10s 52ms/step - loss: 1.6672 - accuracy: 0.4180 - val_loss: 1.3843 - val_accuracy: 0.5207\n",
            "Epoch 4/50\n",
            "188/188 [==============================] - 10s 52ms/step - loss: 1.5312 - accuracy: 0.4535 - val_loss: 1.3113 - val_accuracy: 0.5381\n",
            "Epoch 5/50\n",
            "188/188 [==============================] - 10s 52ms/step - loss: 1.4620 - accuracy: 0.4831 - val_loss: 1.2382 - val_accuracy: 0.5494\n",
            "Epoch 6/50\n",
            "188/188 [==============================] - 10s 53ms/step - loss: 1.3751 - accuracy: 0.5207 - val_loss: 1.1841 - val_accuracy: 0.5841\n",
            "Epoch 7/50\n",
            "188/188 [==============================] - 10s 52ms/step - loss: 1.2771 - accuracy: 0.5370 - val_loss: 1.1342 - val_accuracy: 0.5928\n",
            "Epoch 8/50\n",
            "188/188 [==============================] - 10s 52ms/step - loss: 1.2614 - accuracy: 0.5572 - val_loss: 1.1103 - val_accuracy: 0.6035\n",
            "Epoch 9/50\n",
            "188/188 [==============================] - 10s 52ms/step - loss: 1.2442 - accuracy: 0.5662 - val_loss: 1.0763 - val_accuracy: 0.6108\n",
            "Epoch 10/50\n",
            "188/188 [==============================] - 10s 52ms/step - loss: 1.1675 - accuracy: 0.5771 - val_loss: 1.0494 - val_accuracy: 0.6275\n",
            "Epoch 11/50\n",
            "188/188 [==============================] - 10s 52ms/step - loss: 1.1331 - accuracy: 0.5957 - val_loss: 1.0320 - val_accuracy: 0.6402\n",
            "Epoch 12/50\n",
            "188/188 [==============================] - 10s 52ms/step - loss: 1.0797 - accuracy: 0.6067 - val_loss: 1.0066 - val_accuracy: 0.6522\n",
            "Epoch 13/50\n",
            "188/188 [==============================] - 10s 53ms/step - loss: 1.0481 - accuracy: 0.6213 - val_loss: 0.9880 - val_accuracy: 0.6509\n",
            "Epoch 14/50\n",
            "188/188 [==============================] - 10s 52ms/step - loss: 0.9743 - accuracy: 0.6598 - val_loss: 0.9798 - val_accuracy: 0.6549\n",
            "Epoch 15/50\n",
            "188/188 [==============================] - 10s 52ms/step - loss: 0.9732 - accuracy: 0.6631 - val_loss: 0.9504 - val_accuracy: 0.6589\n",
            "Epoch 16/50\n",
            "188/188 [==============================] - 10s 52ms/step - loss: 0.9747 - accuracy: 0.6545 - val_loss: 0.9358 - val_accuracy: 0.6736\n",
            "Epoch 17/50\n",
            "188/188 [==============================] - 10s 52ms/step - loss: 0.9449 - accuracy: 0.6670 - val_loss: 0.9466 - val_accuracy: 0.6749\n",
            "Epoch 18/50\n",
            "188/188 [==============================] - 10s 52ms/step - loss: 0.8946 - accuracy: 0.6667 - val_loss: 0.9377 - val_accuracy: 0.6769\n",
            "Epoch 19/50\n",
            "188/188 [==============================] - 10s 53ms/step - loss: 0.8837 - accuracy: 0.6937 - val_loss: 0.9028 - val_accuracy: 0.6809\n",
            "Epoch 20/50\n",
            "188/188 [==============================] - 10s 52ms/step - loss: 0.8578 - accuracy: 0.6977 - val_loss: 0.9104 - val_accuracy: 0.6756\n",
            "Epoch 21/50\n",
            "188/188 [==============================] - 10s 52ms/step - loss: 0.8533 - accuracy: 0.6958 - val_loss: 0.8912 - val_accuracy: 0.6869\n",
            "Epoch 22/50\n",
            "188/188 [==============================] - 10s 52ms/step - loss: 0.8170 - accuracy: 0.7071 - val_loss: 0.8905 - val_accuracy: 0.6849\n",
            "Epoch 23/50\n",
            "188/188 [==============================] - 10s 52ms/step - loss: 0.8066 - accuracy: 0.7168 - val_loss: 0.9014 - val_accuracy: 0.6842\n",
            "Epoch 24/50\n",
            "188/188 [==============================] - 10s 52ms/step - loss: 0.7904 - accuracy: 0.7217 - val_loss: 0.8897 - val_accuracy: 0.6782\n",
            "Epoch 25/50\n",
            "188/188 [==============================] - 10s 52ms/step - loss: 0.7710 - accuracy: 0.7370 - val_loss: 0.8661 - val_accuracy: 0.6983\n",
            "Epoch 26/50\n",
            "188/188 [==============================] - 10s 52ms/step - loss: 0.7693 - accuracy: 0.7299 - val_loss: 0.8643 - val_accuracy: 0.6943\n",
            "Epoch 27/50\n",
            "188/188 [==============================] - 10s 53ms/step - loss: 0.7328 - accuracy: 0.7535 - val_loss: 0.8778 - val_accuracy: 0.6936\n",
            "Epoch 28/50\n",
            "188/188 [==============================] - 10s 53ms/step - loss: 0.7270 - accuracy: 0.7517 - val_loss: 0.8735 - val_accuracy: 0.6929\n",
            "Epoch 29/50\n",
            "188/188 [==============================] - 10s 53ms/step - loss: 0.7120 - accuracy: 0.7531 - val_loss: 0.8730 - val_accuracy: 0.6903\n",
            "Epoch 30/50\n",
            "188/188 [==============================] - 10s 53ms/step - loss: 0.6908 - accuracy: 0.7552 - val_loss: 0.8642 - val_accuracy: 0.6916\n",
            "Epoch 31/50\n",
            "188/188 [==============================] - 10s 53ms/step - loss: 0.6788 - accuracy: 0.7586 - val_loss: 0.8371 - val_accuracy: 0.6996\n",
            "Epoch 32/50\n",
            "188/188 [==============================] - 10s 53ms/step - loss: 0.6584 - accuracy: 0.7689 - val_loss: 0.8296 - val_accuracy: 0.7056\n",
            "Epoch 33/50\n",
            "188/188 [==============================] - 10s 52ms/step - loss: 0.6686 - accuracy: 0.7729 - val_loss: 0.8577 - val_accuracy: 0.7083\n",
            "Epoch 34/50\n",
            "188/188 [==============================] - 10s 53ms/step - loss: 0.6479 - accuracy: 0.7758 - val_loss: 0.8262 - val_accuracy: 0.7063\n",
            "Epoch 35/50\n",
            "188/188 [==============================] - 10s 52ms/step - loss: 0.6448 - accuracy: 0.7705 - val_loss: 0.8670 - val_accuracy: 0.6903\n",
            "Epoch 36/50\n",
            "188/188 [==============================] - 10s 52ms/step - loss: 0.6157 - accuracy: 0.7933 - val_loss: 0.8290 - val_accuracy: 0.7029\n",
            "Epoch 37/50\n",
            "188/188 [==============================] - 10s 53ms/step - loss: 0.5812 - accuracy: 0.7982 - val_loss: 0.8400 - val_accuracy: 0.6983\n",
            "Epoch 38/50\n",
            "188/188 [==============================] - 10s 53ms/step - loss: 0.5881 - accuracy: 0.7898 - val_loss: 0.8455 - val_accuracy: 0.7083\n",
            "Epoch 39/50\n",
            "188/188 [==============================] - 10s 53ms/step - loss: 0.6252 - accuracy: 0.7825 - val_loss: 0.8209 - val_accuracy: 0.7203\n",
            "Epoch 40/50\n",
            "188/188 [==============================] - 10s 53ms/step - loss: 0.5835 - accuracy: 0.8003 - val_loss: 0.8480 - val_accuracy: 0.7069\n",
            "Epoch 41/50\n",
            "188/188 [==============================] - 10s 53ms/step - loss: 0.5835 - accuracy: 0.7979 - val_loss: 0.8305 - val_accuracy: 0.7170\n",
            "Epoch 42/50\n",
            "188/188 [==============================] - 10s 53ms/step - loss: 0.5564 - accuracy: 0.8003 - val_loss: 0.8255 - val_accuracy: 0.7056\n",
            "Epoch 43/50\n",
            "188/188 [==============================] - 10s 53ms/step - loss: 0.5577 - accuracy: 0.7998 - val_loss: 0.8038 - val_accuracy: 0.7190\n",
            "Epoch 44/50\n",
            "188/188 [==============================] - 10s 53ms/step - loss: 0.5219 - accuracy: 0.8280 - val_loss: 0.8166 - val_accuracy: 0.7183\n",
            "Epoch 45/50\n",
            "188/188 [==============================] - 10s 53ms/step - loss: 0.5245 - accuracy: 0.8193 - val_loss: 0.8159 - val_accuracy: 0.7123\n",
            "Epoch 46/50\n",
            "188/188 [==============================] - 10s 53ms/step - loss: 0.5334 - accuracy: 0.8209 - val_loss: 0.8102 - val_accuracy: 0.7210\n",
            "Epoch 47/50\n",
            "188/188 [==============================] - 10s 53ms/step - loss: 0.5193 - accuracy: 0.8137 - val_loss: 0.8530 - val_accuracy: 0.7083\n",
            "Epoch 48/50\n",
            "188/188 [==============================] - 10s 52ms/step - loss: 0.4959 - accuracy: 0.8351 - val_loss: 0.8321 - val_accuracy: 0.7109\n",
            "Epoch 49/50\n",
            "188/188 [==============================] - 10s 53ms/step - loss: 0.4889 - accuracy: 0.8336 - val_loss: 0.8277 - val_accuracy: 0.7150\n",
            "Epoch 50/50\n",
            "188/188 [==============================] - 10s 52ms/step - loss: 0.4625 - accuracy: 0.8362 - val_loss: 0.8269 - val_accuracy: 0.7156\n"
          ],
          "name": "stdout"
        }
      ]
    },
    {
      "cell_type": "code",
      "metadata": {
        "colab": {
          "base_uri": "https://localhost:8080/"
        },
        "id": "fSmctWrOO_pS",
        "outputId": "cd484d5b-f53e-41c9-d11e-199333dc297a"
      },
      "source": [
        "model.save(\"CNN\")"
      ],
      "execution_count": null,
      "outputs": [
        {
          "output_type": "stream",
          "text": [
            "INFO:tensorflow:Assets written to: CNN/assets\n"
          ],
          "name": "stdout"
        }
      ]
    },
    {
      "cell_type": "code",
      "metadata": {
        "colab": {
          "base_uri": "https://localhost:8080/"
        },
        "id": "LE5AU-hm7SAa",
        "outputId": "8a22f3c2-860d-4874-a477-f545905bd901"
      },
      "source": [
        "x_to_predict = x_test[0][np.newaxis, ...]\n",
        "model.predict(x_to_predict)"
      ],
      "execution_count": null,
      "outputs": [
        {
          "output_type": "execute_result",
          "data": {
            "text/plain": [
              "array([[8.8344400e-30, 4.7781663e-37, 1.3749561e-20, 3.8922604e-22,\n",
              "        1.0000000e+00, 2.3276132e-18, 2.1373742e-24, 1.2589260e-15,\n",
              "        1.0775703e-19, 5.2112241e-21]], dtype=float32)"
            ]
          },
          "metadata": {
            "tags": []
          },
          "execution_count": 28
        }
      ]
    },
    {
      "cell_type": "code",
      "metadata": {
        "id": "lQo4OPY7MDda",
        "colab": {
          "base_uri": "https://localhost:8080/",
          "height": 295
        },
        "outputId": "948d0f0b-9a33-4812-f3a5-36690ee5cebf"
      },
      "source": [
        "#plot accuracy and error as a function of the epochs\n",
        "plot_history(history)"
      ],
      "execution_count": null,
      "outputs": [
        {
          "output_type": "display_data",
          "data": {
            "image/png": "[encoded data removed]",
            "text/plain": [
              "<Figure size 432x288 with 2 Axes>"
            ]
          },
          "metadata": {
            "tags": [],
            "needs_background": "light"
          }
        }
      ]
    },
    {
      "cell_type": "code",
      "metadata": {
        "id": "Jeoa89_3Rsz-",
        "colab": {
          "base_uri": "https://localhost:8080/"
        },
        "outputId": "bd2751af-e712-4a76-92fd-537e058ba2e4"
      },
      "source": [
        "#evaluate model on Test set\n",
        "test_loss,test_acc=model_cnn.evaluate(x_test,y_test,verbose=2)\n",
        "print('\\n Test Accuracy:',test_acc)"
      ],
      "execution_count": null,
      "outputs": [
        {
          "output_type": "stream",
          "text": [
            "79/79 - 1s - loss: 0.7688 - accuracy: 0.7381\n",
            "\n",
            " Test Accuracy: 0.7380856871604919\n"
          ],
          "name": "stdout"
        }
      ]
    },
    {
      "cell_type": "code",
      "metadata": {
        "id": "hD9YEv7ESm9k",
        "colab": {
          "base_uri": "https://localhost:8080/"
        },
        "outputId": "227dfd71-6ac2-4f1a-f3d8-3c4d71478bde"
      },
      "source": [
        "model_cnn.save(\"Music_Genre_10_CNN\")"
      ],
      "execution_count": null,
      "outputs": [
        {
          "output_type": "stream",
          "text": [
            "INFO:tensorflow:Assets written to: Music_Genre_10_CNN/assets\n"
          ],
          "name": "stdout"
        }
      ]
    },
    {
      "cell_type": "code",
      "metadata": {
        "id": "pp9AYgsZS0r5"
      },
      "source": [
        "model_cnn.save(\"Music_Genre_10_CNN.h5\")"
      ],
      "execution_count": null,
      "outputs": []
    },
    {
      "cell_type": "code",
      "metadata": {
        "id": "-4bO8WGLS3wH"
      },
      "source": [
        "#It can be used to reconstruct the model identically\n",
        "reconstructed_model = keras.models.load_model(\"Music_Genre_10_CNN.h5\")"
      ],
      "execution_count": null,
      "outputs": []
    },
    {
      "cell_type": "markdown",
      "metadata": {
        "id": "_kjaqP14TQ4f"
      },
      "source": [
        "# **Prediction On Test Set**"
      ]
    },
    {
      "cell_type": "code",
      "metadata": {
        "id": "CObcffS6hgFd",
        "colab": {
          "base_uri": "https://localhost:8080/"
        },
        "outputId": "72f14958-0d44-407c-85bc-f9e3fdb8c978"
      },
      "source": [
        "from google.colab import drive\n",
        "drive.mount('/content/drive')"
      ],
      "execution_count": null,
      "outputs": [
        {
          "output_type": "stream",
          "text": [
            "Mounted at /content/drive\n"
          ],
          "name": "stdout"
        }
      ]
    },
    {
      "cell_type": "code",
      "metadata": {
        "id": "yBfm3g4jTW59"
      },
      "source": [
        "#pick a sample to predict from the test set\n",
        "x_to_predict = x_test[100]\n",
        "y_to_predict = y_test[100] "
      ],
      "execution_count": null,
      "outputs": []
    },
    {
      "cell_type": "code",
      "metadata": {
        "id": "YZJyj4DrVIA9",
        "colab": {
          "base_uri": "https://localhost:8080/"
        },
        "outputId": "484b6917-2de8-4198-9565-0c4e4c7664a7"
      },
      "source": [
        "x_to_predict.shape"
      ],
      "execution_count": null,
      "outputs": [
        {
          "output_type": "execute_result",
          "data": {
            "text/plain": [
              "(130, 13, 1)"
            ]
          },
          "metadata": {
            "tags": []
          },
          "execution_count": 48
        }
      ]
    },
    {
      "cell_type": "code",
      "metadata": {
        "id": "FteKK-I_VUvU",
        "colab": {
          "base_uri": "https://localhost:8080/"
        },
        "outputId": "7c53cf10-f5e5-44df-d1d5-5e23d1d29957"
      },
      "source": [
        "print(\"Real Genre:\",y_to_predict)"
      ],
      "execution_count": null,
      "outputs": [
        {
          "output_type": "stream",
          "text": [
            "Real Genre: 1\n"
          ],
          "name": "stdout"
        }
      ]
    },
    {
      "cell_type": "code",
      "metadata": {
        "id": "GuR1CZzaVkwZ"
      },
      "source": [
        "#add a dimension to input data for sample , model.pedict() expects a 4d array in this case\n",
        "x_to_predict = x_to_predict[np.newaxis, ...] #array hape(1,130,13,1)"
      ],
      "execution_count": null,
      "outputs": []
    },
    {
      "cell_type": "code",
      "metadata": {
        "id": "hJyoY4k9V_Wa",
        "colab": {
          "base_uri": "https://localhost:8080/"
        },
        "outputId": "a602fe46-d8da-49ca-c9a7-61283dfcea4a"
      },
      "source": [
        "x_to_predict.shape"
      ],
      "execution_count": null,
      "outputs": [
        {
          "output_type": "execute_result",
          "data": {
            "text/plain": [
              "(1, 130, 13, 1)"
            ]
          },
          "metadata": {
            "tags": []
          },
          "execution_count": 51
        }
      ]
    },
    {
      "cell_type": "code",
      "metadata": {
        "id": "4h3IToGQWC5d"
      },
      "source": [
        "#perform prediction\n",
        "prediction = model_cnn.predict(x_to_predict)"
      ],
      "execution_count": null,
      "outputs": []
    },
    {
      "cell_type": "code",
      "metadata": {
        "id": "lFSPIqt_WNo6",
        "colab": {
          "base_uri": "https://localhost:8080/"
        },
        "outputId": "ba96a3b6-08ed-4927-c525-dc1103230f5c"
      },
      "source": [
        "#get index with max value\n",
        "predicted_index = np.argmax(prediction, axis=1)\n",
        "\n",
        "print(\"Predicted Genre:\",int(predicted_index))"
      ],
      "execution_count": null,
      "outputs": [
        {
          "output_type": "stream",
          "text": [
            "Predicted Genre: 1\n"
          ],
          "name": "stdout"
        }
      ]
    },
    {
      "cell_type": "code",
      "metadata": {
        "id": "uRzslkQLWh6_",
        "colab": {
          "base_uri": "https://localhost:8080/"
        },
        "outputId": "7c061d7e-cf02-4bfd-b180-b64eb0b83a65"
      },
      "source": [
        "#pick a sample to predict from the test set\n",
        "x_to_predict = x_test[50]\n",
        "y_to_predict = y_test[50] \n",
        "\n",
        "print(\"Real Genre:\",y_to_predict)\n",
        "\n",
        "x_to_predict = x_to_predict[np.newaxis, ...]\n",
        "\n",
        "prediction = model_cnn.predict(x_to_predict)\n",
        "\n",
        "#get index with max value\n",
        "predicted_index = np.argmax(prediction, axis=1)\n",
        "\n",
        "print(\"Predicted Genre:\",int(predicted_index))\n"
      ],
      "execution_count": null,
      "outputs": [
        {
          "output_type": "stream",
          "text": [
            "Real Genre: 5\n",
            "Predicted Genre: 5\n"
          ],
          "name": "stdout"
        }
      ]
    },
    {
      "cell_type": "code",
      "metadata": {
        "id": "sn5DSsDPXY3_",
        "colab": {
          "base_uri": "https://localhost:8080/"
        },
        "outputId": "ad2ba7f4-546d-4fa6-b054-cb1688174a1f"
      },
      "source": [
        "len(x_test)"
      ],
      "execution_count": null,
      "outputs": [
        {
          "output_type": "execute_result",
          "data": {
            "text/plain": [
              "2497"
            ]
          },
          "metadata": {
            "tags": []
          },
          "execution_count": 55
        }
      ]
    },
    {
      "cell_type": "code",
      "metadata": {
        "id": "NW9Cp9RAXbMF",
        "colab": {
          "base_uri": "https://localhost:8080/"
        },
        "outputId": "598aaa86-a622-4143-87d0-4f909cdc3e74"
      },
      "source": [
        "for n in range(10):\n",
        "  \n",
        "  i=random.randint(0,len(x_test))\n",
        "  #pick a sample to predict from the test set\n",
        "  x_to_predict = x_test[i]\n",
        "  y_to_predict = y_test[i] \n",
        "\n",
        "  print(\"Real Genre:\",y_to_predict)\n",
        "\n",
        "  x_to_predict = x_to_predict[np.newaxis, ...]\n",
        "\n",
        "  prediction = model_cnn.predict(x_to_predict)\n",
        "\n",
        "  #get index with max value\n",
        "  predicted_index = np.argmax(prediction, axis=1)\n",
        "\n",
        "  print(\"Predicted Genre:\",int(predicted_index))\n"
      ],
      "execution_count": null,
      "outputs": [
        {
          "output_type": "stream",
          "text": [
            "Real Genre: 3\n",
            "Predicted Genre: 6\n",
            "Real Genre: 7\n",
            "Predicted Genre: 7\n",
            "Real Genre: 0\n",
            "Predicted Genre: 0\n",
            "Real Genre: 7\n",
            "Predicted Genre: 7\n",
            "Real Genre: 0\n",
            "Predicted Genre: 6\n",
            "Real Genre: 3\n",
            "Predicted Genre: 3\n",
            "Real Genre: 4\n",
            "Predicted Genre: 7\n",
            "Real Genre: 5\n",
            "Predicted Genre: 5\n",
            "Real Genre: 7\n",
            "Predicted Genre: 3\n",
            "Real Genre: 0\n",
            "Predicted Genre: 4\n"
          ],
          "name": "stdout"
        }
      ]
    },
    {
      "cell_type": "markdown",
      "metadata": {
        "id": "6KWTV-5eYJZP"
      },
      "source": [
        "# **Prediction On New Songs**"
      ]
    },
    {
      "cell_type": "code",
      "metadata": {
        "id": "ffQ56SXeX8uA"
      },
      "source": [
        "#Audio files pre-processing\n",
        "def process_input(audio_file,track_duration):\n",
        "\n",
        "  SAMPLE_RATE = 22050\n",
        "  NUM_MFCC = 13\n",
        "  N_FFT=2048\n",
        "  HOP_LENGTH=512\n",
        "  TRACK_DURATION=track_duration #measured in seconds\n",
        "  SAMPLES_PER_TRACK = SAMPLE_RATE * TRACK_DURATION\n",
        "  NUM_SEGMENTS=10\n",
        "\n",
        "  samples_per_segment = int(SAMPLES_PER_TRACK/NUM_SEGMENTS)\n",
        "  num_mfcc_vectors_per_segment = math.ceil(samples_per_segment/HOP_LENGTH)\n",
        "\n",
        "  signal, sample_rate=librosa.load(audio_file,sr=SAMPLE_RATE)\n",
        "  \n",
        "  for d in range(10):\n",
        "\n",
        "    #calculate start and finish sample for current segemnt\n",
        "    start = samples_per_segment *d\n",
        "    finish = start+samples_per_segment\n",
        "\n",
        "    #extract mfcc\n",
        "    mfcc = librosa.feature.mfcc(signal[start:finish], sample_rate, n_mfcc=NUM_MFCC, n_fft= N_FFT,hop_length=HOP_LENGTH)\n",
        "    mfcc =mfcc.T\n",
        "\n",
        "    return mfcc"
      ],
      "execution_count": null,
      "outputs": []
    },
    {
      "cell_type": "code",
      "metadata": {
        "id": "rjz_9TNPa5Up"
      },
      "source": [
        "genre_dict ={0:\"blues\",1:\"classical\",2:\"country\",3:\"disco\",4:\"hiphop\",5:\"jazz\",6:\"metal\",7:\"pop\",8:\"reggae\",9:\"rock\"}"
      ],
      "execution_count": null,
      "outputs": []
    },
    {
      "cell_type": "code",
      "metadata": {
        "id": "7-QHMW4HbYyr"
      },
      "source": [
        "new_input_mfcc = process_input(\"/content/Dee Yan-Key - Carousel Ride.mp3\",30)"
      ],
      "execution_count": null,
      "outputs": []
    },
    {
      "cell_type": "code",
      "metadata": {
        "id": "BD14A6nLbsa2"
      },
      "source": [
        "type(new_input_mfcc)"
      ],
      "execution_count": null,
      "outputs": []
    },
    {
      "cell_type": "code",
      "metadata": {
        "id": "DuA-gqJXcCA3"
      },
      "source": [
        "new_input_mfcc.shape"
      ],
      "execution_count": null,
      "outputs": []
    },
    {
      "cell_type": "code",
      "metadata": {
        "id": "DY_hg0RhcMPM"
      },
      "source": [
        "x_to_predict=new_input_mfcc[np.newaxis, ...,np.newaxis]\n",
        "x_to_predict.shape"
      ],
      "execution_count": null,
      "outputs": []
    },
    {
      "cell_type": "code",
      "metadata": {
        "id": "grYRlQnecm1J"
      },
      "source": [
        "prediction = model_cnn.predict(x_to_predict)\n",
        "\n",
        "#get index with max value\n",
        "predicted_index = np.argmax(prediction, axis=1)\n",
        "\n",
        "\n",
        "print(\"Predicted Genre:\",genre_dict[int(predicted_index)])"
      ],
      "execution_count": null,
      "outputs": []
    },
    {
      "cell_type": "code",
      "metadata": {
        "id": "Gmbq6EHMpX1u"
      },
      "source": [
        "new_input_mfcc = process_input(\"/content/Filmy Ghost (Sábila Orbe) - KD6-3.7.mp3\",30)"
      ],
      "execution_count": null,
      "outputs": []
    },
    {
      "cell_type": "code",
      "metadata": {
        "id": "V7q8h-owpcnu"
      },
      "source": [
        "x_to_predict=new_input_mfcc[np.newaxis,...,np.newaxis]\n",
        "x_to_predict.shape"
      ],
      "execution_count": null,
      "outputs": []
    },
    {
      "cell_type": "code",
      "metadata": {
        "id": "X90VAEDmpijZ"
      },
      "source": [
        "prediction = model_cnn.predict(x_to_predict)\n",
        "\n",
        "#get index with max value\n",
        "predicted_index = np.argmax(prediction, axis=1)\n",
        "\n",
        "\n",
        "print(\"Predicted Genre:\",genre_dict[int(predicted_index)])"
      ],
      "execution_count": null,
      "outputs": []
    },
    {
      "cell_type": "code",
      "metadata": {
        "id": "DINOTGE4HOMV"
      },
      "source": [
        "new_input_mfcc = process_input(\"/content/Lobo Loco - Home W (ID 1550).mp3\",30)"
      ],
      "execution_count": null,
      "outputs": []
    },
    {
      "cell_type": "code",
      "metadata": {
        "id": "AXaS_8lwHSdA"
      },
      "source": [
        "x_to_predict=new_input_mfcc[np.newaxis,...,np.newaxis]\n",
        "x_to_predict.shape"
      ],
      "execution_count": null,
      "outputs": []
    },
    {
      "cell_type": "code",
      "metadata": {
        "id": "qUVuf62iHXUY"
      },
      "source": [
        "prediction = model_cnn.predict(x_to_predict)\n",
        "\n",
        "#get index with max value\n",
        "predicted_index = np.argmax(prediction, axis=1)\n",
        "\n",
        "\n",
        "print(\"Predicted Genre:\",genre_dict[int(predicted_index)])"
      ],
      "execution_count": null,
      "outputs": []
    },
    {
      "cell_type": "code",
      "metadata": {
        "id": "uYjRbL1zHcMe"
      },
      "source": [
        "new_input_mfcc = process_input(\"/content/drive/MyDrive/genres/reggae/reggae.00004.wav\",30)"
      ],
      "execution_count": null,
      "outputs": []
    },
    {
      "cell_type": "code",
      "metadata": {
        "id": "2Lc-Bk5OHp-B"
      },
      "source": [
        "x_to_predict=new_input_mfcc[np.newaxis,...,np.newaxis]\n",
        "x_to_predict.shape"
      ],
      "execution_count": null,
      "outputs": []
    },
    {
      "cell_type": "code",
      "metadata": {
        "id": "zcEM1-U4HsjK"
      },
      "source": [
        "prediction = model_cnn.predict(x_to_predict)\n",
        "\n",
        "#get index with max value\n",
        "predicted_index = np.argmax(prediction, axis=1)\n",
        "\n",
        "\n",
        "print(\"Predicted Genre:\",genre_dict[int(predicted_index)])"
      ],
      "execution_count": null,
      "outputs": []
    },
    {
      "cell_type": "code",
      "metadata": {
        "id": "NPlcPIKWJEuV"
      },
      "source": [
        "new_input_mfcc = process_input(\"/content/rock.00007.wav\",30)"
      ],
      "execution_count": null,
      "outputs": []
    },
    {
      "cell_type": "code",
      "metadata": {
        "id": "L4J6jE09JQQt"
      },
      "source": [
        "x_to_predict=new_input_mfcc[np.newaxis,...,np.newaxis]\n",
        "x_to_predict.shape"
      ],
      "execution_count": null,
      "outputs": []
    },
    {
      "cell_type": "code",
      "metadata": {
        "id": "qEq_eLkGJWhD"
      },
      "source": [
        "prediction = model_cnn.predict(x_to_predict)\n",
        "\n",
        "#get index with max value\n",
        "predicted_index = np.argmax(prediction, axis=1)\n",
        "\n",
        "\n",
        "print(\"Predicted Genre:\",genre_dict[int(predicted_index)])"
      ],
      "execution_count": null,
      "outputs": []
    },
    {
      "cell_type": "code",
      "metadata": {
        "id": "KazgsZuRLbVA"
      },
      "source": [
        "new_input_mfcc = process_input(\"/content/drive/MyDrive/genres/pop/pop.00001.wav\",30)"
      ],
      "execution_count": null,
      "outputs": []
    },
    {
      "cell_type": "code",
      "metadata": {
        "id": "ddCQOAr8LjUy"
      },
      "source": [
        "x_to_predict=new_input_mfcc[np.newaxis,...,np.newaxis]\n",
        "x_to_predict.shape"
      ],
      "execution_count": null,
      "outputs": []
    },
    {
      "cell_type": "code",
      "metadata": {
        "id": "xda_17eGLl2D"
      },
      "source": [
        "prediction = model_cnn.predict(x_to_predict)\n",
        "\n",
        "#get index with max value\n",
        "predicted_index = np.argmax(prediction, axis=1)\n",
        "\n",
        "\n",
        "print(\"Predicted Genre:\",genre_dict[int(predicted_index)])"
      ],
      "execution_count": null,
      "outputs": []
    }
  ]
}